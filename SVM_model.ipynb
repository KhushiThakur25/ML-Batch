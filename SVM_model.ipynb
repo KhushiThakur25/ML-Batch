{
 "cells": [
  {
   "cell_type": "code",
   "execution_count": null,
   "id": "113a9b24-ecfe-47fa-a932-7ecfc451dc41",
   "metadata": {
    "tags": []
   },
   "outputs": [],
   "source": [
    "import numpy as np\n",
    "import pandas as pd\n",
    "from sklearn.model_selection import train_test_split\n",
    "from sklearn.svm import SVC\n",
    "from sklearn.metrics import accuracy_score , classification_report"
   ]
  },
  {
   "cell_type": "code",
   "execution_count": null,
   "id": "92a21457-33e2-4b04-967e-ad2fda17eec7",
   "metadata": {
    "tags": []
   },
   "outputs": [],
   "source": [
    "#step 2\n",
    "data = {'Age' : [30,25,35,20,40,55,32,28], 'MonthlyCharges' : [50,60,80,40,100,120,70,90],'churn' : [0,1,1,1,0,1,1,1]}\n",
    "df = pd.DataFrame(data)\n",
    "df"
   ]
  },
  {
   "cell_type": "code",
   "execution_count": null,
   "id": "96dc5efe-05e6-43b8-a0ad-ed681c682786",
   "metadata": {
    "tags": []
   },
   "outputs": [],
   "source": [
    "X = df[['Age','MonthlyCharges']]\n",
    "y = df['churn']"
   ]
  },
  {
   "cell_type": "code",
   "execution_count": null,
   "id": "3249e87d-b60a-4a12-9e29-a58d93cc43b8",
   "metadata": {
    "tags": []
   },
   "outputs": [],
   "source": [
    "X_train, X_test,y_train ,y_test = train_test_split(X,y,test_size = 0.2,random_state = 42)"
   ]
  },
  {
   "cell_type": "code",
   "execution_count": null,
   "id": "645a732e-b5a9-4a89-851b-96eb066aa34b",
   "metadata": {
    "tags": []
   },
   "outputs": [],
   "source": [
    "svc_model = SVC(kernel = 'linear', C = 1.0) #default regularization\n",
    "svc_model.fit(X_train,y_train)"
   ]
  },
  {
   "cell_type": "code",
   "execution_count": null,
   "id": "2b8699d3-8bb4-4986-917d-8d8aa76855a8",
   "metadata": {
    "tags": []
   },
   "outputs": [],
   "source": [
    "#step 5\n",
    "y_pred = svc_model.predict(X_test)"
   ]
  },
  {
   "cell_type": "code",
   "execution_count": null,
   "id": "b5b68c7c-125f-4caa-95fb-5516c121c5dd",
   "metadata": {
    "tags": []
   },
   "outputs": [],
   "source": [
    "accuracy = accuracy_score(y_test,y_pred)"
   ]
  },
  {
   "cell_type": "code",
   "execution_count": null,
   "id": "d3a06574-d31e-4654-81af-4ca312cb5dc7",
   "metadata": {
    "tags": []
   },
   "outputs": [],
   "source": [
    "accuracy\n"
   ]
  },
  {
   "cell_type": "code",
   "execution_count": null,
   "id": "fc829c40-dc16-44ce-b395-099f3fc61d8a",
   "metadata": {
    "tags": []
   },
   "outputs": [],
   "source": [
    "report = classification_report(y_test,y_pred)\n",
    "print(report)"
   ]
  },
  {
   "cell_type": "code",
   "execution_count": null,
   "id": "6d0f99f5-faf3-44b0-ae05-bc7c5666e94d",
   "metadata": {
    "tags": []
   },
   "outputs": [],
   "source": [
    "user_age = float(input('Enter the age of user'))\n",
    "user_charge = float(input('Enter the customer charges'))\n"
   ]
  },
  {
   "cell_type": "code",
   "execution_count": null,
   "id": "aeb8a0ed-ecf9-4b8f-9092-fc36cd1bccc8",
   "metadata": {
    "tags": []
   },
   "outputs": [],
   "source": [
    "user_data = np.array([[user_age,user_charge]])\n",
    "prediction = svc_model.predict(user_data)\n",
    "if prediction[0] == 0:\n",
    "    print(\"Likely to stay\")\n",
    "else:\n",
    "    print(\"Risk to stay\")"
   ]
  },
  {
   "cell_type": "code",
   "execution_count": null,
   "id": "308a090d-142d-46bd-9149-c6391df69a16",
   "metadata": {},
   "outputs": [],
   "source": []
  }
 ],
 "metadata": {
  "kernelspec": {
   "display_name": "Python 3 (ipykernel)",
   "language": "python",
   "name": "python3"
  },
  "language_info": {
   "codemirror_mode": {
    "name": "ipython",
    "version": 3
   },
   "file_extension": ".py",
   "mimetype": "text/x-python",
   "name": "python",
   "nbconvert_exporter": "python",
   "pygments_lexer": "ipython3",
   "version": "3.11.5"
  }
 },
 "nbformat": 4,
 "nbformat_minor": 5
}
