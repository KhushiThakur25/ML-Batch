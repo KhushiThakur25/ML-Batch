{
 "cells": [
  {
   "cell_type": "markdown",
   "id": "aacee349-ec50-4fc5-b48c-07d658da8def",
   "metadata": {},
   "source": [
    "1. K-Fold Cross-Validation:"
   ]
  },
  {
   "cell_type": "code",
   "execution_count": 9,
   "id": "1c3f6dea-373e-412e-9a91-d59a4bfcfcfc",
   "metadata": {
    "tags": []
   },
   "outputs": [],
   "source": [
    "from sklearn.model_selection import KFold\n",
    "from sklearn.linear_model import LogisticRegression\n",
    "from sklearn.datasets import load_iris\n",
    "from sklearn.metrics import accuracy_score"
   ]
  },
  {
   "cell_type": "code",
   "execution_count": 10,
   "id": "9f6ecdc0-8ad2-4a31-bd8c-3219149a1823",
   "metadata": {
    "tags": []
   },
   "outputs": [],
   "source": [
    "# Load dataset\n",
    "data = load_iris()\n",
    "X, y = data.data, data.target\n"
   ]
  },
  {
   "cell_type": "code",
   "execution_count": 23,
   "id": "e73b4a1d-bc40-41ff-a09c-96a5d84becf8",
   "metadata": {
    "tags": []
   },
   "outputs": [],
   "source": [
    "# Initialize model and KFold\n",
    "model = LogisticRegression()\n",
    "kf = KFold(n_splits=3)"
   ]
  },
  {
   "cell_type": "code",
   "execution_count": 24,
   "id": "c7b1ecb9-7d01-4156-b60b-56dc1eaee552",
   "metadata": {
    "tags": []
   },
   "outputs": [],
   "source": [
    "# Perform K-Fold Cross-Validation\n",
    "accuracies = []\n",
    "for train_index, test_index in kf.split(X):\n",
    "    X_train, X_test = X[train_index], X[test_index]\n",
    "    y_train, y_test = y[train_index], y[test_index]\n",
    "    \n",
    "    model.fit(X_train, y_train)\n",
    "    predictions = model.predict(X_test)\n",
    "    \n",
    "    accuracies.append(accuracy_score(y_test, predictions))"
   ]
  },
  {
   "cell_type": "code",
   "execution_count": 25,
   "id": "db54fff3-5829-4eeb-ac06-74f8c43deb4f",
   "metadata": {
    "tags": []
   },
   "outputs": [
    {
     "name": "stdout",
     "output_type": "stream",
     "text": [
      "Average Accuracy: 0.0\n"
     ]
    }
   ],
   "source": [
    "print(\"Average Accuracy:\", sum(accuracies) / len(accuracies))"
   ]
  },
  {
   "cell_type": "code",
   "execution_count": null,
   "id": "e1f52366-2cc5-4813-9191-d928bb4a1024",
   "metadata": {},
   "outputs": [],
   "source": []
  },
  {
   "cell_type": "code",
   "execution_count": null,
   "id": "f02d7a77-2480-49f8-bade-7476e8462abe",
   "metadata": {},
   "outputs": [],
   "source": []
  }
 ],
 "metadata": {
  "kernelspec": {
   "display_name": "Python 3 (ipykernel)",
   "language": "python",
   "name": "python3"
  },
  "language_info": {
   "codemirror_mode": {
    "name": "ipython",
    "version": 3
   },
   "file_extension": ".py",
   "mimetype": "text/x-python",
   "name": "python",
   "nbconvert_exporter": "python",
   "pygments_lexer": "ipython3",
   "version": "3.11.5"
  }
 },
 "nbformat": 4,
 "nbformat_minor": 5
}
