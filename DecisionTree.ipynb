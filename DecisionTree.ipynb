{
 "cells": [
  {
   "cell_type": "code",
   "execution_count": null,
   "id": "bbd16122-f652-49ab-9bc1-c39e463b735d",
   "metadata": {
    "tags": []
   },
   "outputs": [],
   "source": [
    "import numpy as np\n",
    "from sklearn.tree import DecisionTreeClassifier\n",
    "from sklearn.model_selection import train_test_split\n",
    "from sklearn.metrics import accuracy_score"
   ]
  },
  {
   "cell_type": "code",
   "execution_count": null,
   "id": "d08cd945-3eed-4646-8ae1-0b8f7be127ef",
   "metadata": {
    "tags": []
   },
   "outputs": [],
   "source": [
    "X = np.array([[25, 50000, 3], [35, 90000, 2],[40, 60000, 1],[45, 50000, 2],\n",
    "              [55, 45000, 1],[20, 20000, 2],[37, 70000, 3],[23, 30000, 1],[25, 40000, 2]])\n",
    "y = np.array([0,1,1,0,1,0,1,1,0])"
   ]
  },
  {
   "cell_type": "code",
   "execution_count": null,
   "id": "b61b822e-d7ae-4ffc-b7fa-4171febfe14b",
   "metadata": {
    "tags": []
   },
   "outputs": [],
   "source": [
    "X_train, X_test ,y_train,y_test = train_test_split(X,y,test_size = 0.2,random_state = 42)"
   ]
  },
  {
   "cell_type": "code",
   "execution_count": null,
   "id": "665198c5-458d-4c3a-9f29-5aa677957653",
   "metadata": {
    "tags": []
   },
   "outputs": [],
   "source": [
    "model = DecisionTreeClassifier()"
   ]
  },
  {
   "cell_type": "code",
   "execution_count": null,
   "id": "90d34bea-ed95-4b1b-b5a8-e49dcff348d6",
   "metadata": {
    "tags": []
   },
   "outputs": [],
   "source": [
    "model.fit(X_train,y_train)"
   ]
  },
  {
   "cell_type": "code",
   "execution_count": null,
   "id": "f43d00b9-9895-4d31-8b8e-cfc30122e557",
   "metadata": {
    "tags": []
   },
   "outputs": [],
   "source": [
    "age = float(input(\"Enter age:\"))\n",
    "income = float(input(\"Enter Income.\"))\n",
    "education = float(input(\"Enter Education level:\"))\n",
    "user_input = np.array([[age, income, education]])\n",
    "prediction = model.predict(user_input)\n",
    "if prediction[0] == 1:\n",
    "    print(\"The user is likely to purchase a smartphone\")\n",
    "else:\n",
    "    print(\"The user is Unlikely to purchase a smartphone\")\n"
   ]
  },
  {
   "cell_type": "code",
   "execution_count": null,
   "id": "42b1bf2d-e781-408a-90a7-86ea73fe6244",
   "metadata": {
    "tags": []
   },
   "outputs": [],
   "source": []
  },
  {
   "cell_type": "code",
   "execution_count": null,
   "id": "4fdc726b-62a3-4fae-9aa0-725c4c99e8b5",
   "metadata": {
    "tags": []
   },
   "outputs": [],
   "source": []
  },
  {
   "cell_type": "code",
   "execution_count": null,
   "id": "97916a81-ed76-41ad-8490-76d1bd0cf753",
   "metadata": {
    "tags": []
   },
   "outputs": [],
   "source": []
  },
  {
   "cell_type": "code",
   "execution_count": null,
   "id": "46834aa4-038d-44cf-8030-6c6e029a4dcc",
   "metadata": {},
   "outputs": [],
   "source": []
  }
 ],
 "metadata": {
  "kernelspec": {
   "display_name": "Python 3 (ipykernel)",
   "language": "python",
   "name": "python3"
  },
  "language_info": {
   "codemirror_mode": {
    "name": "ipython",
    "version": 3
   },
   "file_extension": ".py",
   "mimetype": "text/x-python",
   "name": "python",
   "nbconvert_exporter": "python",
   "pygments_lexer": "ipython3",
   "version": "3.11.5"
  }
 },
 "nbformat": 4,
 "nbformat_minor": 5
}
