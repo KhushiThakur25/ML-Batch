{
 "cells": [
  {
   "cell_type": "markdown",
   "id": "09470932-a0bd-4631-b63b-45d685b46678",
   "metadata": {},
   "source": [
    "2. Stratified K-Fold Cross-Validation:"
   ]
  },
  {
   "cell_type": "code",
   "execution_count": null,
   "id": "11adf2cf-7264-4c09-91c7-af5c6e98d1a6",
   "metadata": {
    "tags": []
   },
   "outputs": [],
   "source": [
    "from sklearn.model_selection import StratifiedKFold\n",
    "from sklearn.tree import DecisionTreeClassifier\n",
    "from sklearn.datasets import load_iris\n",
    "from sklearn.metrics import accuracy_score"
   ]
  },
  {
   "cell_type": "code",
   "execution_count": null,
   "id": "3380dc9c-d22e-42ca-98ad-2015511c49d9",
   "metadata": {
    "tags": []
   },
   "outputs": [],
   "source": [
    "# Load dataset\n",
    "data = load_iris()\n",
    "X, y = data.data, data.target\n",
    "\n",
    "# Initialize model and StratifiedKFold\n",
    "model = DecisionTreeClassifier()\n",
    "skf = StratifiedKFold(n_splits=5)"
   ]
  },
  {
   "cell_type": "code",
   "execution_count": null,
   "id": "a5f4ca25-3316-4986-aaf0-3c71688e984c",
   "metadata": {
    "tags": []
   },
   "outputs": [],
   "source": [
    "accuracies = []\n",
    "for train_index, test_index in skf.split(X, y):\n",
    "    X_train, X_test = X[train_index], X[test_index]\n",
    "    y_train, y_test = y[train_index], y[test_index]\n",
    "    \n",
    "    model.fit(X_train, y_train)\n",
    "    predictions = model.predict(X_test)\n",
    "    \n",
    "    accuracies.append(accuracy_score(y_test, predictions))"
   ]
  },
  {
   "cell_type": "code",
   "execution_count": null,
   "id": "8c96118d-b8f3-411f-97d8-07d828e6765e",
   "metadata": {
    "tags": []
   },
   "outputs": [],
   "source": [
    "print(\"Average Accuracy:\", sum(accuracies) / len(accuracies))"
   ]
  },
  {
   "cell_type": "code",
   "execution_count": null,
   "id": "9aec6b6f-f576-4638-9e8d-958e57f271e5",
   "metadata": {},
   "outputs": [],
   "source": []
  }
 ],
 "metadata": {
  "kernelspec": {
   "display_name": "Python 3 (ipykernel)",
   "language": "python",
   "name": "python3"
  },
  "language_info": {
   "codemirror_mode": {
    "name": "ipython",
    "version": 3
   },
   "file_extension": ".py",
   "mimetype": "text/x-python",
   "name": "python",
   "nbconvert_exporter": "python",
   "pygments_lexer": "ipython3",
   "version": "3.11.5"
  }
 },
 "nbformat": 4,
 "nbformat_minor": 5
}
