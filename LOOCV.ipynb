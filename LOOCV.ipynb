{
 "cells": [
  {
   "cell_type": "markdown",
   "id": "d2fcc0d0-f0bb-4b3a-808d-fc45ad98ccf5",
   "metadata": {},
   "source": [
    "3. Leave-One-Out Cross-Validation (LOOCV):"
   ]
  },
  {
   "cell_type": "code",
   "execution_count": 1,
   "id": "e152995c-4b40-4824-ace9-751f8d24b792",
   "metadata": {
    "tags": []
   },
   "outputs": [],
   "source": [
    "from sklearn.model_selection import LeaveOneOut\n",
    "from sklearn.neighbors import KNeighborsClassifier\n",
    "from sklearn.datasets import load_iris\n",
    "from sklearn.metrics import accuracy_score"
   ]
  },
  {
   "cell_type": "code",
   "execution_count": 2,
   "id": "9e3ccd38-0f08-4994-a45d-04b7f027048e",
   "metadata": {
    "tags": []
   },
   "outputs": [],
   "source": [
    "# Load dataset\n",
    "data = load_iris()\n",
    "X, y = data.data, data.target\n",
    "\n",
    "# Initialize model and LOOCV\n",
    "model = KNeighborsClassifier(n_neighbors=3)\n",
    "loo = LeaveOneOut()"
   ]
  },
  {
   "cell_type": "code",
   "execution_count": 3,
   "id": "001a3a5e-c3e8-4791-bc15-5812387cb202",
   "metadata": {
    "tags": []
   },
   "outputs": [],
   "source": [
    "accuracies = []\n",
    "for train_index, test_index in loo.split(X):\n",
    "    X_train, X_test = X[train_index], X[test_index]\n",
    "    y_train, y_test = y[train_index], y[test_index]\n",
    "    \n",
    "    model.fit(X_train, y_train)\n",
    "    predictions = model.predict(X_test)\n",
    "    \n",
    "    accuracies.append(accuracy_score([y_test], predictions))"
   ]
  },
  {
   "cell_type": "code",
   "execution_count": 4,
   "id": "373aed97-7e75-41ef-a8a4-7f4b29b7a732",
   "metadata": {
    "tags": []
   },
   "outputs": [
    {
     "name": "stdout",
     "output_type": "stream",
     "text": [
      "Average Accuracy: 0.96\n"
     ]
    }
   ],
   "source": [
    "print(\"Average Accuracy:\", sum(accuracies) / len(accuracies))"
   ]
  },
  {
   "cell_type": "code",
   "execution_count": null,
   "id": "6ea5609f-0f5b-4fb9-854f-26407a916777",
   "metadata": {},
   "outputs": [],
   "source": []
  }
 ],
 "metadata": {
  "kernelspec": {
   "display_name": "Python 3 (ipykernel)",
   "language": "python",
   "name": "python3"
  },
  "language_info": {
   "codemirror_mode": {
    "name": "ipython",
    "version": 3
   },
   "file_extension": ".py",
   "mimetype": "text/x-python",
   "name": "python",
   "nbconvert_exporter": "python",
   "pygments_lexer": "ipython3",
   "version": "3.11.5"
  }
 },
 "nbformat": 4,
 "nbformat_minor": 5
}
